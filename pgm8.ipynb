{
 "cells": [
  {
   "cell_type": "code",
   "execution_count": null,
   "id": "9a93635b",
   "metadata": {},
   "outputs": [],
   "source": [
    "import numpy as np\n",
    "import pandas as pd\n",
    "import matplotlib.pyplot as plt\n",
    "from sklearn.datasets import load_iris"
   ]
  },
  {
   "cell_type": "code",
   "execution_count": null,
   "id": "5861ad4c",
   "metadata": {},
   "outputs": [],
   "source": [
    " data= load_iris()\n",
    "df = pd.DataFrame(data.data, columns = data.feature_names)\n",
    "df['Class'] = data.target_names[data.target]\n",
    "df.head()"
   ]
  },
  {
   "cell_type": "code",
   "execution_count": null,
   "id": "654bbeb8",
   "metadata": {},
   "outputs": [],
   "source": [
    "x = df.iloc[:,:-1].values\n",
    "y = df.Class.values\n",
    "print(x[:5])\n",
    "print(y[:5])"
   ]
  },
  {
   "cell_type": "code",
   "execution_count": null,
   "id": "9e322082",
   "metadata": {},
   "outputs": [],
   "source": [
    "from sklearn.model_selection import train_test_split\n",
    "x_train, x_test, y_train, y_test = train_test_split(x, y, test_size = 0.\n",
    "2)\n",
    "from sklearn.neighbors import KNeighborsClassifier\n",
    "knn_classifier = KNeighborsClassifier(n_neighbors = 5)\n",
    "knn_classifier.fit(x_train, y_train)\n"
   ]
  },
  {
   "cell_type": "code",
   "execution_count": null,
   "id": "e9d6f8da",
   "metadata": {},
   "outputs": [],
   "source": [
    " predictions = knn_classifier.predict(x_test)\n",
    "print(predictions)"
   ]
  },
  {
   "cell_type": "code",
   "execution_count": null,
   "id": "0957a368",
   "metadata": {},
   "outputs": [],
   "source": [
    " from sklearn.metrics import accuracy_score, confusion_matrix\n",
    "print(\"Training Accuracy Score is: \", accuracy_score(y_train, knn_classi\n",
    "fier.predict(x_train)))\n",
    "print(\"Testing Accuracy Score is: \", accuracy_score(y_test, knn_classifi\n",
    "er.predict(x_test)))\n",
    "print(\"Training Confusion Matrix is: \\n\", confusion_matrix(y_train, knn_\n",
    "classifier.predict(x_train)))\n",
    "print(\"Testing Confusion Matrix is: \\n\", confusion_matrix(y_test, knn_cl\n",
    "assifier.predict(x_test)))"
   ]
  }
 ],
 "metadata": {
  "kernelspec": {
   "display_name": "Python 3 (ipykernel)",
   "language": "python",
   "name": "python3"
  },
  "language_info": {
   "codemirror_mode": {
    "name": "ipython",
    "version": 3
   },
   "file_extension": ".py",
   "mimetype": "text/x-python",
   "name": "python",
   "nbconvert_exporter": "python",
   "pygments_lexer": "ipython3",
   "version": "3.11.4"
  }
 },
 "nbformat": 4,
 "nbformat_minor": 5
}
